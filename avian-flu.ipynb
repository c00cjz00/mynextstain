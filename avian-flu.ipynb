{
 "cells": [
  {
   "cell_type": "markdown",
   "id": "701f2b38-6039-4341-90b1-b28032f782cb",
   "metadata": {},
   "source": [
    "### 下載 Nextstrain Zika 教程存儲庫\n",
    "我們將病原體分析存儲在版本控制存儲庫中，因此我們可以輕鬆跟踪隨時間的變化。下載您要構建的示例 Zika 病原體存儲庫。\n",
    "完成後，您將擁有一個名為zika-tutorial/."
   ]
  },
  {
   "cell_type": "code",
   "execution_count": 1,
   "id": "1359d6a3-d3c8-4fd7-a256-2d77ab8fc59f",
   "metadata": {},
   "outputs": [],
   "source": [
    "## 導入環境變數 export PATH=...\n",
    "import os\n",
    "myENV='nextstrain'\n",
    "myPackageHome='/home/ubuntu/miniconda3'\n",
    "os.environ['PATH']=myPackageHome+\"/envs/\"+myENV+\"/bin:\"+os.environ['PATH'] "
   ]
  },
  {
   "cell_type": "code",
   "execution_count": 2,
   "id": "b4418ca2-2fc8-4cd5-a6c0-6809d5aec609",
   "metadata": {},
   "outputs": [
    {
     "name": "stdout",
     "output_type": "stream",
     "text": [
      "/home/ubuntu/nextstrain\n",
      "Cloning into 'avian-flu'...\n",
      "remote: Enumerating objects: 288, done.\u001b[K\n",
      "remote: Counting objects: 100% (102/102), done.\u001b[K\n",
      "remote: Compressing objects: 100% (71/71), done.\u001b[K\n",
      "remote: Total 288 (delta 61), reused 68 (delta 31), pack-reused 186\u001b[K\n",
      "Receiving objects: 100% (288/288), 688.15 KiB | 1.46 MiB/s, done.\n",
      "Resolving deltas: 100% (160/160), done.\n"
     ]
    }
   ],
   "source": [
    "#1\n",
    "## 下載數據\n",
    "!mkdir -p ~/nextstrain/\n",
    "%cd ~/nextstrain/\n",
    "!git clone https://github.com/nextstrain/avian-flu.git"
   ]
  },
  {
   "cell_type": "markdown",
   "id": "d7b893fd-f117-4445-a862-70abdfffc326",
   "metadata": {},
   "source": [
    "## 準備序列, 請在左側檔案總管, 打開以下連結檔案\n",
    "1. nextstrain/avian-flu/example_data/h5n1_ha.fasta"
   ]
  },
  {
   "cell_type": "code",
   "execution_count": 3,
   "id": "10eb2db5-5b10-439c-a425-9cb75cc13536",
   "metadata": {},
   "outputs": [
    {
     "name": "stdout",
     "output_type": "stream",
     "text": [
      "/home/ubuntu/nextstrain/avian-flu\n"
     ]
    }
   ],
   "source": [
    "#2\n",
    "## 建置metadata\n",
    "%cd ~/nextstrain/avian-flu\n",
    "!mkdir -p results/\n",
    "!augur parse \\\n",
    "    --sequences example_data/h5n1_ha.fasta \\\n",
    "    --fields strain virus accession date region country city01 city02 other01 other02 other03 \\\n",
    "    --output-sequences results/sequences.fasta \\\n",
    "    --output-metadata results/metadata.tsv"
   ]
  },
  {
   "cell_type": "code",
   "execution_count": 4,
   "id": "2e86f4cc-d255-4a14-93e9-3a4a5108d2f1",
   "metadata": {},
   "outputs": [
    {
     "name": "stdout",
     "output_type": "stream",
     "text": [
      "/home/ubuntu/nextstrain/avian-flu\n"
     ]
    }
   ],
   "source": [
    "#3\n",
    "## Index the Sequences\n",
    "%cd ~/nextstrain/avian-flu\n",
    "!augur index \\\n",
    "  --sequences results/sequences.fasta \\\n",
    "  --output results/sequence_index.tsv"
   ]
  },
  {
   "cell_type": "code",
   "execution_count": 6,
   "id": "bd36a792-6ad8-4984-bd2f-17c6b94332e2",
   "metadata": {},
   "outputs": [
    {
     "name": "stdout",
     "output_type": "stream",
     "text": [
      "/home/ubuntu/nextstrain/avian-flu\n",
      "7 strains were dropped during filtering\n",
      "\t6 of these were dropped because of their date (or lack of date)\n",
      "\t1 of these were dropped because they were shorter than minimum length of 1700bp\n",
      "26 strains passed all filters\n"
     ]
    }
   ],
   "source": [
    "# 4\n",
    "## Filter the Sequences\n",
    "%cd ~/nextstrain/avian-flu\n",
    "!augur filter \\\n",
    "  --sequences results/sequences.fasta \\\n",
    "  --sequence-index results/sequence_index.tsv \\\n",
    "  --metadata results/metadata.tsv \\\n",
    "  --output results/filtered.fasta \\\n",
    "  --min-date 2000 \\\n",
    "  --min-length 1700"
   ]
  },
  {
   "cell_type": "code",
   "execution_count": 7,
   "id": "56f985c0-9c8e-4b52-b7d1-51e0c0807ba7",
   "metadata": {},
   "outputs": [
    {
     "name": "stdout",
     "output_type": "stream",
     "text": [
      "/home/ubuntu/nextstrain/avian-flu\n",
      "\n",
      "using mafft to align via:\n",
      "\tmafft --reorder --anysymbol --nomemsave --adjustdirection --thread 1 results/aligned.fasta.to_align.fasta 1> results/aligned.fasta 2> results/aligned.fasta.log \n",
      "\n",
      "\tKatoh et al, Nucleic Acid Research, vol 30, issue 14\n",
      "\thttps://doi.org/10.1093%2Fnar%2Fgkf436\n",
      "\n",
      "7bp insertion at ref position 0\n",
      "\tAGCAAAA: A/goose/Guangdong/xb/2001, A/Swine/Fujian/F1/2001, A/quail/Vietnam/CVVI_49/2010, A/Vietnam/UT36250_1/2010, A/wild_duck/Fujian/2/2011\n",
      "\tAGCGAAA: A/environment/Hunan/1_8/2007, A/chicken/Egypt/0813_NLQP/2008, A/environment/Hunan/1_35/2007\n",
      "\tTCAAAA: A/environment/Guizhou/4/2009\n",
      "\tAA: A/environment/Guizhou/9/2009\n",
      "\tAAA: A/water/Xinjiang/3/2009\n",
      "1bp insertion at ref position 3\n",
      "\tG: A/environment/Guizhou/4/2009\n",
      "12bp insertion at ref position 1760\n",
      "\tCTTGTTTCTACT: A/goose/Guangdong/xb/2001, A/Swine/Fujian/F1/2001, A/quail/Vietnam/CVVI_49/2010, A/environment/Hunan/1_8/2007, A/Vietnam/UT36250_1/2010, A/chicken/Egypt/0813_NLQP/2008, A/environment/Hunan/1_35/2007, A/wild_duck/Fujian/2/2011\n",
      "\tCCTTGTTA: A/environment/Guizhou/4/2009\n",
      "\tCTTGTT: A/environment/Guizhou/9/2009\n",
      "Trimmed gaps in AF144305.1 from the alignment\n"
     ]
    }
   ],
   "source": [
    "#5 \n",
    "## Align the Sequences\n",
    "%cd ~/nextstrain/avian-flu\n",
    "!augur align \\\n",
    "  --sequences results/filtered.fasta \\\n",
    "  --reference-sequence config/reference_h5n1_ha.gb \\\n",
    "  --output results/aligned.fasta \\\n",
    "  --fill-gaps"
   ]
  },
  {
   "cell_type": "code",
   "execution_count": 8,
   "id": "111938f2-6cf9-4789-921b-b8f332aca52c",
   "metadata": {},
   "outputs": [
    {
     "name": "stdout",
     "output_type": "stream",
     "text": [
      "/home/ubuntu/nextstrain/avian-flu\n",
      "Building a tree via:\n",
      "\tiqtree2 -ninit 2 -n 2 -me 0.05 -nt 2 -s results/aligned-delim.fasta -m GTR  > results/aligned-delim.iqtree.log\n",
      "\tNguyen et al: IQ-TREE: A fast and effective stochastic algorithm for estimating maximum likelihood phylogenies.\n",
      "\tMol. Biol. Evol., 32:268-274. https://doi.org/10.1093/molbev/msu300\n",
      "\n",
      "\n",
      "Building original tree took 0.1230630874633789 seconds\n"
     ]
    }
   ],
   "source": [
    "#6\n",
    "## Construct the Phylogeny\n",
    "%cd ~/nextstrain/avian-flu\n",
    "!augur tree \\\n",
    "    --alignment results/aligned.fasta \\\n",
    "    --output results/tree_raw.nwk \\\n",
    "    --method iqtree \\\n",
    "    --nthreads 2"
   ]
  },
  {
   "cell_type": "code",
   "execution_count": 9,
   "id": "ea13f87c-778e-428f-8618-626479ffc63a",
   "metadata": {},
   "outputs": [
    {
     "name": "stdout",
     "output_type": "stream",
     "text": [
      "/home/ubuntu/nextstrain/avian-flu\n",
      "augur refine is using TreeTime version 0.8.5\n",
      "\n",
      "0.05\tTreeTime.reroot: with method or node: least-squares\n",
      "\n",
      "0.05\tTreeTime.reroot: rerooting will ignore covariance and shared ancestry.\n",
      "\n",
      "0.09\tTreeTime.reroot: with method or node: least-squares\n",
      "\n",
      "0.09\tTreeTime.reroot: rerooting will ignore covariance and shared ancestry.\n",
      "pruning leaf  AF144305.1\n",
      "\n",
      "0.12\tWARNING: Previous versions of TreeTime (<0.7.0) RECONSTRUCTED sequences of\n",
      "    \ttips at positions with AMBIGUOUS bases. This resulted in unexpected\n",
      "    \tbehavior is some cases and is no longer done by default. If you want to\n",
      "    \treplace those ambiguous sites with their most likely state, rerun with\n",
      "    \t`reconstruct_tip_states=True` or `--reconstruct-tip-states`.\n",
      "\n",
      "0.34\tTreeTime.reroot: with method or node: least-squares\n",
      "\n",
      "0.34\tTreeTime.reroot: rerooting will account for covariance and shared ancestry.\n",
      "\n",
      "0.54\t###TreeTime.run: INITIAL ROUND\n",
      "\n",
      "1.88\tTreeTime.reroot: with method or node: least-squares\n",
      "\n",
      "1.88\tTreeTime.reroot: rerooting will account for covariance and shared ancestry.\n",
      "\n",
      "1.91\t###TreeTime.run: rerunning timetree after rerooting\n",
      "\n",
      "3.30\t###TreeTime.run: ITERATION 1 out of 2 iterations\n",
      "\n",
      "5.44\t###TreeTime.run: ITERATION 2 out of 2 iterations\n",
      "\n",
      "14.24\t###TreeTime.run: FINAL ROUND - confidence estimation via marginal\n",
      "     \treconstruction\n",
      "\n",
      "Inferred a time resolved phylogeny using TreeTime:\n",
      "\tSagulenko et al. TreeTime: Maximum-likelihood phylodynamic analysis\n",
      "\tVirus Evolution, vol 4, https://academic.oup.com/ve/article/4/1/vex042/4794731\n",
      "\n",
      "updated tree written to results/tree.nwk\n",
      "node attributes written to results/branch_lengths.json\n"
     ]
    }
   ],
   "source": [
    "#7\n",
    "## tree refine\n",
    "%cd ~/nextstrain/avian-flu\n",
    "!augur refine \\\n",
    "  --tree results/tree_raw.nwk \\\n",
    "  --alignment results/aligned.fasta \\\n",
    "  --metadata results/metadata.tsv \\\n",
    "  --output-tree results/tree.nwk \\\n",
    "  --output-node-data results/branch_lengths.json \\\n",
    "  --timetree \\\n",
    "  --coalescent const \\\n",
    "  --date-confidence \\\n",
    "  --date-inference marginal \\\n",
    "  --clock-filter-iqd 4"
   ]
  },
  {
   "cell_type": "code",
   "execution_count": null,
   "id": "5c383d68-dd70-4813-8837-e72aaefe1dff",
   "metadata": {},
   "outputs": [],
   "source": [
    "#8\n",
    "## traits\n",
    "%cd ~/nextstrain/avian-flu\n",
    "!augur traits \\\n",
    "  --tree results/tree.nwk \\\n",
    "  --metadata results/metadata.tsv \\\n",
    "  --output-node-data results/traits.json \\\n",
    "  --columns region country \\\n",
    "  --confidence"
   ]
  },
  {
   "cell_type": "code",
   "execution_count": 11,
   "id": "48caab86-cfb5-47c0-8070-5ff9a589456a",
   "metadata": {},
   "outputs": [
    {
     "name": "stdout",
     "output_type": "stream",
     "text": [
      "/home/ubuntu/nextstrain/avian-flu\n",
      "augur ancestral is using TreeTime version 0.8.5\n",
      "\n",
      "Inferred ancestral sequence states using TreeTime:\n",
      "\tSagulenko et al. TreeTime: Maximum-likelihood phylodynamic analysis\n",
      "\tVirus Evolution, vol 4, https://academic.oup.com/ve/article/4/1/vex042/4794731\n",
      "\n",
      "ancestral mutations written to results/nt_muts.json\n"
     ]
    }
   ],
   "source": [
    "#9\n",
    "## ancestral\n",
    "%cd ~/nextstrain/avian-flu\n",
    "!augur ancestral \\\n",
    "  --tree results/tree.nwk \\\n",
    "  --alignment results/aligned.fasta \\\n",
    "  --output-node-data results/nt_muts.json \\\n",
    "  --inference joint"
   ]
  },
  {
   "cell_type": "code",
   "execution_count": 12,
   "id": "4824e45e-13e2-4867-90a0-ca0f6340c68e",
   "metadata": {},
   "outputs": [
    {
     "name": "stdout",
     "output_type": "stream",
     "text": [
      "/home/ubuntu/nextstrain/avian-flu\n",
      "Read in 2 features from reference sequence file\n",
      "amino acid mutations written to results/aa_muts.json\n"
     ]
    }
   ],
   "source": [
    "#10\n",
    "## translate\n",
    "%cd ~/nextstrain/avian-flu\n",
    "!augur translate \\\n",
    "  --tree results/tree.nwk \\\n",
    "  --ancestral-sequences results/nt_muts.json \\\n",
    "  --reference-sequence config/reference_h5n1_ha.gb \\\n",
    "  --output-node-data results/aa_muts.json"
   ]
  },
  {
   "cell_type": "code",
   "execution_count": 14,
   "id": "a68f3499-885e-487b-bba4-41959911b174",
   "metadata": {},
   "outputs": [
    {
     "name": "stdout",
     "output_type": "stream",
     "text": [
      "/home/ubuntu/nextstrain/avian-flu\n",
      "Validating schema of 'results/aa_muts.json'...\n",
      "Validating config file config/auspice_config_h5n1.json against the JSON schema\n",
      "Validating schema of 'config/auspice_config_h5n1.json'...\n",
      "WARNING: You asked for a color-by for trait 'host', but it has no values on the tree. It has been ignored.\n",
      "\n",
      "WARNING: You asked for a color-by for trait 'h5_label_clade', but it has no values on the tree. It has been ignored.\n",
      "\n",
      "WARNING: You asked for a color-by for trait 'furin_cleavage_motif', but it has no values on the tree. It has been ignored.\n",
      "\n",
      "WARNING: You asked for a color-by for trait 'cleavage_site_sequence', but it has no values on the tree. It has been ignored.\n",
      "\n",
      "WARNING: You asked for a color-by for trait 'submitting_lab', but it has no values on the tree. It has been ignored.\n",
      "\n",
      "Validating produced JSON\n",
      "Validating schema of 'auspice/avian-flu.json'...\n",
      "Validating that the JSON is internally consistent...\n",
      "\tWARNING:  The filter \"host\" does not appear as a property on any tree nodes.\n",
      "\tWARNING:  The filter \"submitting_lab\" does not appear as a property on any tree nodes.\n",
      "Validation of 'auspice/avian-flu.json' succeeded, but there were warnings you may want to resolve.\n",
      "\n"
     ]
    }
   ],
   "source": [
    "#11\n",
    "## export json\n",
    "%cd ~/nextstrain/avian-flu\n",
    "!augur export v2 \\\n",
    "  --tree results/tree.nwk \\\n",
    "  --metadata results/metadata.tsv \\\n",
    "  --node-data results/branch_lengths.json \\\n",
    "              results/traits.json \\\n",
    "              results/nt_muts.json \\\n",
    "              results/aa_muts.json \\\n",
    "  --colors config/colors_h5n1.tsv \\\n",
    "  --lat-longs config/lat_longs_h5n1.tsv \\\n",
    "  --auspice-config config/auspice_config_h5n1.json \\\n",
    "  --output auspice/avian-flu.json"
   ]
  },
  {
   "cell_type": "code",
   "execution_count": 15,
   "id": "1f3ef221-11e0-4692-a14b-a975abb3809f",
   "metadata": {},
   "outputs": [
    {
     "name": "stdout",
     "output_type": "stream",
     "text": [
      "/home/ubuntu/nextstrain/avian-flu\n",
      "--2021-12-14 21:47:25--  https://covid-19.nchc.org.tw/nextstrain/config.json\n",
      "Resolving covid-19.nchc.org.tw (covid-19.nchc.org.tw)... 203.145.222.54\n",
      "Connecting to covid-19.nchc.org.tw (covid-19.nchc.org.tw)|203.145.222.54|:443... connected.\n",
      "HTTP request sent, awaiting response... 200 OK\n",
      "Length: 226 [application/json]\n",
      "Saving to: ‘config.json’\n",
      "\n",
      "config.json         100%[===================>]     226  --.-KB/s    in 0s      \n",
      "\n",
      "2021-12-14 21:47:25 (20.7 MB/s) - ‘config.json’ saved [226/226]\n",
      "\n",
      "\u001b[94mRunning webpack compiler\u001b[39m\n",
      "[BABEL] Note: The code generator has deoptimised the styling of /home/ubuntu/miniconda3/envs/nextstrain/lib/auspice/node_modules/lodash/lodash.js as it exceeds the max of 500KB.\n",
      "[BABEL] Note: The code generator has deoptimised the styling of /home/ubuntu/miniconda3/envs/nextstrain/lib/auspice/node_modules/react-icons/fa/index.esm.js as it exceeds the max of 500KB.\n",
      "\u001b[93m[warning]\tWebpack has warnings (run with '--verbose' to see them)\u001b[39m\n"
     ]
    }
   ],
   "source": [
    "#12\n",
    "%cd ~/nextstrain/avian-flu\n",
    "!wget https://covid-19.nchc.org.tw/nextstrain/config.json -O config.json\n",
    "!auspice build --extend config.json"
   ]
  },
  {
   "cell_type": "code",
   "execution_count": null,
   "id": "4af68e11-17da-4464-9fad-637ff998ae62",
   "metadata": {},
   "outputs": [
    {
     "name": "stdout",
     "output_type": "stream",
     "text": [
      "/home/ubuntu/nextstrain/avian-flu\n",
      "\u001b[94m\u001b[39m\n",
      "\u001b[94m\u001b[39m\n",
      "\u001b[94m---------------------------------------------------\u001b[39m\n",
      "\u001b[94mAuspice server now running at \u001b[39m\u001b[94m\u001b[4m\u001b[1mhttp://0.0.0.0:9999\u001b[22m\u001b[24m\u001b[39m\n",
      "\u001b[94mServing the auspice build which exists in this directory.\u001b[39m\n",
      "\u001b[94mLooking for datasets in /home/ubuntu/nextstrain/avian-flu/auspice\u001b[39m\n",
      "\u001b[94mLooking for narratives in /home/ubuntu/miniconda3/envs/nextstrain/lib/auspice/node_modules/auspice/narratives\u001b[39m\n",
      "\u001b[94m---------------------------------------------------\u001b[39m\n",
      "\u001b[94m\u001b[39m\n",
      "\u001b[94m\u001b[39m\n",
      "\u001b[94mGET AVAILABLE returning locally available datasets & narratives\u001b[39m\n",
      "\u001b[93m[warning]\tCouldn't collect available narratives (path searched: /home/ubuntu/miniconda3/envs/nextstrain/lib/auspice/node_modules/auspice/narratives)\u001b[39m\n",
      "\u001b[94mGET DATASET query received: prefix=/avian-flu\u001b[39m\n",
      "\u001b[94mGET AVAILABLE returning locally available datasets & narratives\u001b[39m\n",
      "\u001b[93m[warning]\tCouldn't collect available narratives (path searched: /home/ubuntu/miniconda3/envs/nextstrain/lib/auspice/node_modules/auspice/narratives)\u001b[39m\n",
      "\u001b[94mGET DATASET query received: prefix=/avian-flu&type=root-sequence\u001b[39m\n",
      "\u001b[93m[warning]\tFailed to read /home/ubuntu/nextstrain/avian-flu/auspice/avian-flu_root-sequence.json\u001b[39m\n",
      "\u001b[94mGET DATASET query received: prefix=/avian-flu\u001b[39m\n",
      "\u001b[94mGET AVAILABLE returning locally available datasets & narratives\u001b[39m\n",
      "\u001b[93m[warning]\tCouldn't collect available narratives (path searched: /home/ubuntu/miniconda3/envs/nextstrain/lib/auspice/node_modules/auspice/narratives)\u001b[39m\n",
      "\u001b[94mGET DATASET query received: prefix=/avian-flu&type=root-sequence\u001b[39m\n",
      "\u001b[93m[warning]\tFailed to read /home/ubuntu/nextstrain/avian-flu/auspice/avian-flu_root-sequence.json\u001b[39m\n"
     ]
    }
   ],
   "source": [
    "#13\n",
    "%cd ~/nextstrain/avian-flu\n",
    "!export PORT=9999; export HOST=0.0.0.0; auspice view --datasetDir auspice"
   ]
  },
  {
   "cell_type": "code",
   "execution_count": 20,
   "id": "aae7e425-eaca-40ca-a070-4fc62cdb36f3",
   "metadata": {},
   "outputs": [],
   "source": [
    "#14\n",
    "!lsof -i -P -n | grep `whoami` | grep LISTEN | grep 9999 | awk '{print $2}' | xargs kill"
   ]
  },
  {
   "cell_type": "code",
   "execution_count": null,
   "id": "5be9ed7c-6c26-4e0a-b735-211bf5658749",
   "metadata": {},
   "outputs": [],
   "source": []
  }
 ],
 "metadata": {
  "kernelspec": {
   "display_name": "nextstrain",
   "language": "python",
   "name": "nextstrain"
  },
  "language_info": {
   "codemirror_mode": {
    "name": "ipython",
    "version": 3
   },
   "file_extension": ".py",
   "mimetype": "text/x-python",
   "name": "python",
   "nbconvert_exporter": "python",
   "pygments_lexer": "ipython3",
   "version": "3.9.7"
  }
 },
 "nbformat": 4,
 "nbformat_minor": 5
}
