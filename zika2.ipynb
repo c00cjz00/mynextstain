{
 "cells": [
  {
   "cell_type": "markdown",
   "id": "701f2b38-6039-4341-90b1-b28032f782cb",
   "metadata": {},
   "source": [
    "### 下載 Nextstrain Zika 教程存儲庫\n",
    "我們將病原體分析存儲在版本控制存儲庫中，因此我們可以輕鬆跟踪隨時間的變化。下載您要構建的示例 Zika 病原體存儲庫。\n",
    "完成後，您將擁有一個名為zika-tutorial/."
   ]
  },
  {
   "cell_type": "code",
   "execution_count": 1,
   "id": "1359d6a3-d3c8-4fd7-a256-2d77ab8fc59f",
   "metadata": {},
   "outputs": [],
   "source": [
    "## 導入環境變數 export PATH=...\n",
    "import os\n",
    "myENV='nextstrain'\n",
    "myPackageHome='/home/ubuntu/miniconda3'\n",
    "os.environ['PATH']=myPackageHome+\"/envs/\"+myENV+\"/bin:\"+os.environ['PATH'] "
   ]
  },
  {
   "cell_type": "code",
   "execution_count": 2,
   "id": "b4418ca2-2fc8-4cd5-a6c0-6809d5aec609",
   "metadata": {},
   "outputs": [
    {
     "name": "stdout",
     "output_type": "stream",
     "text": [
      "/home/ubuntu/nextstrain\n",
      "Cloning into 'zika-tutorial2'...\n",
      "remote: Enumerating objects: 89, done.\u001b[K\n",
      "remote: Counting objects: 100% (22/22), done.\u001b[K\n",
      "remote: Compressing objects: 100% (20/20), done.\u001b[K\n",
      "remote: Total 89 (delta 4), reused 10 (delta 2), pack-reused 67\u001b[K\n",
      "Receiving objects: 100% (89/89), 88.42 KiB | 1.21 MiB/s, done.\n",
      "Resolving deltas: 100% (35/35), done.\n"
     ]
    }
   ],
   "source": [
    "#1,2\n",
    "## 下載數據\n",
    "!mkdir -p ~/nextstrain/\n",
    "%cd ~/nextstrain/\n",
    "!git clone https://github.com/nextstrain/zika-tutorial.git zika-tutorial2"
   ]
  },
  {
   "cell_type": "markdown",
   "id": "d7b893fd-f117-4445-a862-70abdfffc326",
   "metadata": {},
   "source": [
    "## 準備序列, 請在左側檔案總管, 打開以下連結檔案\n",
    "1. nextstrain/zika-tutorial2/data/metadata.tsv\n",
    "2. nextstrain/zika-tutorial2/data/sequences.fasta"
   ]
  },
  {
   "cell_type": "code",
   "execution_count": 3,
   "id": "8173535f-b21d-4c6c-8e10-b9849aa341e9",
   "metadata": {},
   "outputs": [
    {
     "name": "stdout",
     "output_type": "stream",
     "text": [
      "/home/ubuntu/nextstrain/zika-tutorial2\n"
     ]
    }
   ],
   "source": [
    "#3\n",
    "## 索引序列\n",
    "## 在過濾之前預先計算序列的組成（例如，核苷酸數量、間隙、無效字符和總序列長度）。生成的序列索引加快了後續的過濾步驟，尤其是在更複雜的工作流程中。\n",
    "%cd ~/nextstrain/zika-tutorial2\n",
    "!mkdir -p results/\n",
    "!augur index \\\n",
    "  --sequences data/sequences.fasta \\\n",
    "  --output results/sequence_index.tsv"
   ]
  },
  {
   "cell_type": "code",
   "execution_count": 4,
   "id": "d2480afa-e6b6-4c47-b4aa-e3670767ef5e",
   "metadata": {},
   "outputs": [
    {
     "name": "stdout",
     "output_type": "stream",
     "text": [
      "/home/ubuntu/nextstrain/zika-tutorial2\n",
      "1 strains were dropped during filtering\n",
      "\t1 of these were dropped because they were in config/dropped_strains.txt\n",
      "\t0 of these were dropped because of subsampling criteria\n",
      "33 strains passed all filters\n"
     ]
    }
   ],
   "source": [
    "#4\n",
    "## 過濾序列\n",
    "## 過濾解析的序列和元數據，以從後續分析中排除菌株，並將剩餘的菌株子採樣為每組固定數量的樣本。\n",
    "%cd ~/nextstrain/zika-tutorial2\n",
    "!augur filter \\\n",
    "  --sequences data/sequences.fasta \\\n",
    "  --sequence-index results/sequence_index.tsv \\\n",
    "  --metadata data/metadata.tsv \\\n",
    "  --exclude config/dropped_strains.txt \\\n",
    "  --output results/filtered.fasta \\\n",
    "  --group-by country year month \\\n",
    "  --sequences-per-group 20 \\\n",
    "  --min-date 2012"
   ]
  },
  {
   "cell_type": "code",
   "execution_count": 5,
   "id": "e9d72a23-4a5a-4b89-8888-f390db5fa1fb",
   "metadata": {},
   "outputs": [
    {
     "name": "stdout",
     "output_type": "stream",
     "text": [
      "/home/ubuntu/nextstrain/zika-tutorial2\n",
      "\n",
      "using mafft to align via:\n",
      "\tmafft --reorder --anysymbol --nomemsave --adjustdirection --thread 1 results/aligned.fasta.to_align.fasta 1> results/aligned.fasta 2> results/aligned.fasta.log \n",
      "\n",
      "\tKatoh et al, Nucleic Acid Research, vol 30, issue 14\n",
      "\thttps://doi.org/10.1093%2Fnar%2Fgkf436\n",
      "\n",
      "16bp insertion at ref position 0\n",
      "\tAGTTGTTGATCTGTGT: ZKC2/2016\n",
      "\tTCTGTGT: SMGC_1\n",
      "\tAGTAGTTGATCTGTGT: EcEs062_16\n",
      "\tAGTTGTTACTGTTGCT: VEN/UF_1/2016\n",
      "\tGTTGTTGATCTGTGT: PRVABC59\n",
      "\tGTGT: USA/2016/FLUR022\n",
      "1bp insertion at ref position 61\n",
      "\tT: 1_0087_PF, 1_0181_PF, 1_0199_PF, ZKC2/2016, SMGC_1, EcEs062_16, PAN/CDC_259359_V1_V3/2015, COL/FLR_00024/2015, COL/FLR_00008/2015, VEN/UF_1/2016, Colombia/2016/ZC204Se, HND/2016/HU_ME59, Nica1_16, PRVABC59, USA/2016/FL022, BRA/2016/FC_6706, DOM/2016/BB_0433, DOM/2016/BB_0183, DOM/2016/MA_WGS16_011, USA/2016/FLUR022, Aedes_aegypti/USA/2016/FL05, SG_027, SG_074, SG_056, Thailand/1610acTw\n",
      "26bp insertion at ref position 10769\n",
      "\tTGTGGGGAAATCCATGGGTCT: ZKC2/2016, PAN/CDC_259359_V1_V3/2015\n",
      "\tTGTGGGGA: SMGC_1\n",
      "\tTGTGGGGAAATCCATGGGAGATCGGA: EcEs062_16\n",
      "\tTGTGGGGAAATCCATGGGTCTT: VEN/UF_1/2016\n",
      "\tTGTGGGGAAATC: USA/2016/FLUR022\n",
      "Trimmed gaps in KX369547.1 from the alignment\n"
     ]
    }
   ],
   "source": [
    "#5\n",
    "## 對齊序列\n",
    "## 使用自定義參考創建多序列對齊。對齊後，參考中存在間隙的列將被刪除。此外，該–fill-gaps標誌用“N”字符填充非參考序列中的空白。這些修改強制所有序列進入與參考序列相同的坐標空間。\n",
    "%cd ~/nextstrain/zika-tutorial2\n",
    "!augur align \\\n",
    "  --sequences results/filtered.fasta \\\n",
    "  --reference-sequence config/zika_outgroup.gb \\\n",
    "  --output results/aligned.fasta \\\n",
    "  --fill-gaps"
   ]
  },
  {
   "cell_type": "code",
   "execution_count": 6,
   "id": "f9f99dcc-b909-4278-a84f-a82f58106d35",
   "metadata": {},
   "outputs": [
    {
     "name": "stdout",
     "output_type": "stream",
     "text": [
      "/home/ubuntu/nextstrain/zika-tutorial2\n",
      "Building a tree via:\n",
      "\tiqtree2 -ninit 2 -n 2 -me 0.05 -nt 1 -s results/aligned-delim.fasta -m GTR  > results/aligned-delim.iqtree.log\n",
      "\tNguyen et al: IQ-TREE: A fast and effective stochastic algorithm for estimating maximum likelihood phylogenies.\n",
      "\tMol. Biol. Evol., 32:268-274. https://doi.org/10.1093/molbev/msu300\n",
      "\n",
      "\n",
      "Building original tree took 0.19810080528259277 seconds\n"
     ]
    }
   ],
   "source": [
    "#6\n",
    "## 構建系統發育\n",
    "## 現在病原體序列已準備好進行分析, 從多序列比對推斷系統發育樹。\n",
    "## 輸出生成的樹, 以Newick 格式存儲。這棵樹中的分支長度測量核苷酸差異。\n",
    "%cd ~/nextstrain/zika-tutorial2\n",
    "!augur tree \\\n",
    "  --alignment results/aligned.fasta \\\n",
    "  --output results/tree_raw.nwk"
   ]
  },
  {
   "cell_type": "code",
   "execution_count": 7,
   "id": "25a129b2-61b5-47d6-9f61-cca24bb6a3c8",
   "metadata": {},
   "outputs": [
    {
     "name": "stdout",
     "output_type": "stream",
     "text": [
      "/home/ubuntu/nextstrain/zika-tutorial2\n",
      "augur refine is using TreeTime version 0.8.5\n",
      "\n",
      "0.32\tTreeTime.reroot: with method or node: least-squares\n",
      "\n",
      "0.32\tTreeTime.reroot: rerooting will ignore covariance and shared ancestry.\n",
      "\n",
      "0.36\tTreeTime.reroot: with method or node: least-squares\n",
      "\n",
      "0.36\tTreeTime.reroot: rerooting will ignore covariance and shared ancestry.\n",
      "pruning leaf  KX369547.1\n",
      "\n",
      "0.40\tWARNING: Previous versions of TreeTime (<0.7.0) RECONSTRUCTED sequences of\n",
      "    \ttips at positions with AMBIGUOUS bases. This resulted in unexpected\n",
      "    \tbehavior is some cases and is no longer done by default. If you want to\n",
      "    \treplace those ambiguous sites with their most likely state, rerun with\n",
      "    \t`reconstruct_tip_states=True` or `--reconstruct-tip-states`.\n",
      "\n",
      "0.60\tTreeTime.reroot: with method or node: least-squares\n",
      "\n",
      "0.60\tTreeTime.reroot: rerooting will account for covariance and shared ancestry.\n",
      "\n",
      "0.76\t###TreeTime.run: INITIAL ROUND\n",
      "\n",
      "2.66\tTreeTime.reroot: with method or node: least-squares\n",
      "\n",
      "2.66\tTreeTime.reroot: rerooting will account for covariance and shared ancestry.\n",
      "\n",
      "2.70\t###TreeTime.run: rerunning timetree after rerooting\n",
      "\n",
      "4.61\t###TreeTime.run: ITERATION 1 out of 2 iterations\n",
      "\n",
      "8.01\t###TreeTime.run: ITERATION 2 out of 2 iterations\n",
      "\n",
      "11.32\t###TreeTime.run: CONVERGED\n",
      "\n",
      "21.47\t###TreeTime.run: FINAL ROUND - confidence estimation via marginal\n",
      "     \treconstruction\n",
      "\n",
      "Inferred a time resolved phylogeny using TreeTime:\n",
      "\tSagulenko et al. TreeTime: Maximum-likelihood phylodynamic analysis\n",
      "\tVirus Evolution, vol 4, https://academic.oup.com/ve/article/4/1/vex042/4794731\n",
      "\n",
      "updated tree written to results/tree.nwk\n",
      "node attributes written to results/branch_lengths.json\n"
     ]
    }
   ],
   "source": [
    "#7\n",
    "## 獲取時間解析樹 (需要tree_raw.nwk, aligned.fasta, metadata.tsv)\n",
    "## Augur 還可以調整這棵樹中的分支長度，以根據樣本日期定位提示，並使用TreeTime推斷其祖先最有可能的時間。\n",
    "## 運行refine命令將 TreeTime 應用於原始系統發育樹並生成“時間樹”。\n",
    "%cd ~/nextstrain/zika-tutorial2\n",
    "!augur refine \\\n",
    "  --tree results/tree_raw.nwk \\\n",
    "  --alignment results/aligned.fasta \\\n",
    "  --metadata data/metadata.tsv \\\n",
    "  --output-tree results/tree.nwk \\\n",
    "  --output-node-data results/branch_lengths.json \\\n",
    "  --timetree \\\n",
    "  --coalescent opt \\\n",
    "  --date-confidence \\\n",
    "  --date-inference marginal \\\n",
    "  --clock-filter-iqd 4\n",
    "\n",
    "\n",
    "## 為內部節點分配時間之外，該refine命令還會過濾可能是異常值的提示，並為推斷日期分配置信區間。\n",
    "## 生成的 Newick 樹中的分支長度測量調整後的核苷酸差異。\n",
    "## TreeTime 推斷的所有其他數據按應變或內部節點名稱存儲在相應的 JSON 文件中。"
   ]
  },
  {
   "cell_type": "code",
   "execution_count": 8,
   "id": "01c50a0c-88a8-4686-82dd-b25a54561364",
   "metadata": {},
   "outputs": [
    {
     "name": "stdout",
     "output_type": "stream",
     "text": [
      "/home/ubuntu/nextstrain/zika-tutorial2\n",
      "augur traits is using TreeTime version 0.8.5\n",
      "Assigned discrete traits to 33 out of 33 taxa.\n",
      "\n",
      "NOTE: previous versions (<0.7.0) of this command made a 'short-branch\n",
      "length assumption. TreeTime now optimizes the overall rate numerically\n",
      "and thus allows for long branches along which multiple changes\n",
      "accumulated. This is expected to affect estimates of the overall rate\n",
      "while leaving the relative rates mostly unchanged.\n",
      "Assigned discrete traits to 33 out of 33 taxa.\n",
      "\n",
      "NOTE: previous versions (<0.7.0) of this command made a 'short-branch\n",
      "length assumption. TreeTime now optimizes the overall rate numerically\n",
      "and thus allows for long branches along which multiple changes\n",
      "accumulated. This is expected to affect estimates of the overall rate\n",
      "while leaving the relative rates mostly unchanged.\n",
      "\n",
      "Inferred ancestral states of discrete character using TreeTime:\n",
      "\tSagulenko et al. TreeTime: Maximum-likelihood phylodynamic analysis\n",
      "\tVirus Evolution, vol 4, https://academic.oup.com/ve/article/4/1/vex042/4794731\n",
      "\n",
      "results written to results/traits.json\n"
     ]
    }
   ],
   "source": [
    "#8\n",
    "## 註釋系統發育 重建祖先特徵 (需要tree_raw.nwk, metadata.tsv)\n",
    "## TreeTime 還可以從現有的系統發育樹和註釋樹的每個尖端的元數據推斷祖先特徵。\n",
    "## 以下命令從時間樹和原始應變元數據中推斷所有內部節點的地區和國家。與refine命令一樣，生成的 JSON 輸出按應變或內部節點名稱編制索引。\n",
    "%cd ~/nextstrain/zika-tutorial2\n",
    "!augur traits \\\n",
    "  --tree results/tree.nwk \\\n",
    "  --metadata data/metadata.tsv \\\n",
    "  --output-node-data results/traits.json \\\n",
    "  --columns region country \\\n",
    "  --confidence"
   ]
  },
  {
   "cell_type": "code",
   "execution_count": 9,
   "id": "0d14c059-4e20-46f7-9a4e-ac0bdbf70df8",
   "metadata": {},
   "outputs": [
    {
     "name": "stdout",
     "output_type": "stream",
     "text": [
      "/home/ubuntu/nextstrain/zika-tutorial2\n",
      "augur ancestral is using TreeTime version 0.8.5\n",
      "\n",
      "Inferred ancestral sequence states using TreeTime:\n",
      "\tSagulenko et al. TreeTime: Maximum-likelihood phylodynamic analysis\n",
      "\tVirus Evolution, vol 4, https://academic.oup.com/ve/article/4/1/vex042/4794731\n",
      "\n",
      "ancestral mutations written to results/nt_muts.json\n"
     ]
    }
   ],
   "source": [
    "#9\n",
    "## 推斷祖先序列 (需要tree_raw.nwk, aligned.fasta)\n",
    "## 接下來，推斷每個內部節點的祖先序列並識別通向樹中任何節點的分支上的任何核苷酸突變。\n",
    "%cd ~/nextstrain/zika-tutorial2\n",
    "!augur ancestral \\\n",
    "  --tree results/tree.nwk \\\n",
    "  --alignment results/aligned.fasta \\\n",
    "  --output-node-data results/nt_muts.json \\\n",
    "  --inference joint"
   ]
  },
  {
   "cell_type": "code",
   "execution_count": 10,
   "id": "9ef30d9b-4ff4-4561-b93c-723babaee674",
   "metadata": {},
   "outputs": [
    {
     "name": "stdout",
     "output_type": "stream",
     "text": [
      "/home/ubuntu/nextstrain/zika-tutorial2\n",
      "Read in 13 features from reference sequence file\n",
      "amino acid mutations written to results/aa_muts.json\n"
     ]
    }
   ],
   "source": [
    "#10\n",
    "## 識別氨基酸突變 (需要tree_raw.nwk, aligned.fasta, nt_muts.json, zika_outgroup.gb)\n",
    "## 從核苷酸突變和帶有基因坐標註釋的參考序列中識別氨基酸突變。\n",
    "## 生成的 JSON 文件包含按菌株或內部節點名稱和基因名稱索引的氨基酸突變。\n",
    "## 要導出包含每個節點序列中每個基因的完整氨基酸翻譯的 FASTA 文件，請–alignment-output以results/aligned_aa_%GENE.fasta.\n",
    "%cd ~/nextstrain/zika-tutorial2\n",
    "!augur translate \\\n",
    "  --tree results/tree.nwk \\\n",
    "  --ancestral-sequences results/nt_muts.json \\\n",
    "  --reference-sequence config/zika_outgroup.gb \\\n",
    "  --output-node-data results/aa_muts.json"
   ]
  },
  {
   "cell_type": "code",
   "execution_count": 11,
   "id": "10e77940-70fd-4d48-805b-dd48d2b547f5",
   "metadata": {},
   "outputs": [
    {
     "name": "stdout",
     "output_type": "stream",
     "text": [
      "/home/ubuntu/nextstrain/zika-tutorial2\n",
      "Validating schema of 'results/aa_muts.json'...\n",
      "Validating config file config/auspice_config.json against the JSON schema\n",
      "Validating schema of 'config/auspice_config.json'...\n",
      "Validating produced JSON\n",
      "Validating schema of 'auspice/zika.json'...\n",
      "Validating that the JSON is internally consistent...\n",
      "Validation of 'auspice/zika.json' succeeded.\n",
      "\n"
     ]
    }
   ],
   "source": [
    "#11\n",
    "## 導出結果\n",
    "## 最後，收集所有節點註釋和元數據，並以 Auspice 的 JSON 格式導出。\n",
    "## 這是指三個配置文件來定義\n",
    "## 1. 顏色 via config/colors.tsv\n",
    "## 2. 緯度和經度坐標 via config/lat_longs.tsv\n",
    "## 3. 頁面標題、維護者、過濾器存在等， via config/auspice_config.json\n",
    "## 生成的樹和元數據 JSON 文件是 Auspice 可視化工具的輸入。\n",
    "%cd ~/nextstrain/zika-tutorial2\n",
    "!augur export v2 \\\n",
    "  --tree results/tree.nwk \\\n",
    "  --metadata data/metadata.tsv \\\n",
    "  --node-data results/branch_lengths.json \\\n",
    "              results/traits.json \\\n",
    "              results/nt_muts.json \\\n",
    "              results/aa_muts.json \\\n",
    "  --colors config/colors.tsv \\\n",
    "  --lat-longs config/lat_longs.tsv \\\n",
    "  --auspice-config config/auspice_config.json \\\n",
    "  --output auspice/zika.json"
   ]
  },
  {
   "cell_type": "code",
   "execution_count": 12,
   "id": "dff27c01-309d-4da9-a405-2343e8da9a2a",
   "metadata": {},
   "outputs": [
    {
     "name": "stdout",
     "output_type": "stream",
     "text": [
      "/home/ubuntu/nextstrain/zika-tutorial2\n",
      "--2021-12-14 22:18:29--  https://covid-19.nchc.org.tw/nextstrain/config.json\n",
      "Resolving covid-19.nchc.org.tw (covid-19.nchc.org.tw)... 203.145.222.54\n",
      "Connecting to covid-19.nchc.org.tw (covid-19.nchc.org.tw)|203.145.222.54|:443... connected.\n",
      "HTTP request sent, awaiting response... 200 OK\n",
      "Length: 226 [application/json]\n",
      "Saving to: ‘config.json’\n",
      "\n",
      "config.json         100%[===================>]     226  --.-KB/s    in 0s      \n",
      "\n",
      "2021-12-14 22:18:29 (61.0 MB/s) - ‘config.json’ saved [226/226]\n",
      "\n",
      "\u001b[94mRunning webpack compiler\u001b[39m\n",
      "[BABEL] Note: The code generator has deoptimised the styling of /home/ubuntu/miniconda3/envs/nextstrain/lib/auspice/node_modules/lodash/lodash.js as it exceeds the max of 500KB.\n",
      "[BABEL] Note: The code generator has deoptimised the styling of /home/ubuntu/miniconda3/envs/nextstrain/lib/auspice/node_modules/react-icons/fa/index.esm.js as it exceeds the max of 500KB.\n",
      "\u001b[93m[warning]\tWebpack has warnings (run with '--verbose' to see them)\u001b[39m\n"
     ]
    }
   ],
   "source": [
    "#12\n",
    "## 建立數據視圖\n",
    "%cd ~/nextstrain/zika-tutorial2\n",
    "!wget https://covid-19.nchc.org.tw/nextstrain/config.json -O config.json\n",
    "!auspice build --extend config.json"
   ]
  },
  {
   "cell_type": "code",
   "execution_count": 14,
   "id": "88145855-0cf2-410b-b7bf-276814c7a067",
   "metadata": {},
   "outputs": [
    {
     "name": "stdout",
     "output_type": "stream",
     "text": [
      "/home/ubuntu/nextstrain/zika-tutorial2\n",
      "\u001b[94m\u001b[39m\n",
      "\u001b[94m\u001b[39m\n",
      "\u001b[94m---------------------------------------------------\u001b[39m\n",
      "\u001b[94mAuspice server now running at \u001b[39m\u001b[94m\u001b[4m\u001b[1mhttp://0.0.0.0:9999\u001b[22m\u001b[24m\u001b[39m\n",
      "\u001b[94mServing the auspice build which exists in this directory.\u001b[39m\n",
      "\u001b[94mLooking for datasets in /home/ubuntu/nextstrain/zika-tutorial2/auspice\u001b[39m\n",
      "\u001b[94mLooking for narratives in /home/ubuntu/miniconda3/envs/nextstrain/lib/auspice/node_modules/auspice/narratives\u001b[39m\n",
      "\u001b[94m---------------------------------------------------\u001b[39m\n",
      "\u001b[94m\u001b[39m\n",
      "\u001b[94m\u001b[39m\n",
      "\u001b[94mGET DATASET query received: prefix=/zika\u001b[39m\n",
      "\u001b[94mGET AVAILABLE returning locally available datasets & narratives\u001b[39m\n",
      "\u001b[93m[warning]\tCouldn't collect available narratives (path searched: /home/ubuntu/miniconda3/envs/nextstrain/lib/auspice/node_modules/auspice/narratives)\u001b[39m\n",
      "\u001b[94mGET DATASET query received: prefix=/zika&type=root-sequence\u001b[39m\n",
      "\u001b[93m[warning]\tFailed to read /home/ubuntu/nextstrain/zika-tutorial2/auspice/zika_root-sequence.json\u001b[39m\n",
      "\u001b[94mGET DATASET query received: prefix=/zika\u001b[39m\n",
      "\u001b[94mGET AVAILABLE returning locally available datasets & narratives\u001b[39m\n",
      "\u001b[93m[warning]\tCouldn't collect available narratives (path searched: /home/ubuntu/miniconda3/envs/nextstrain/lib/auspice/node_modules/auspice/narratives)\u001b[39m\n",
      "\u001b[94mGET DATASET query received: prefix=/zika&type=root-sequence\u001b[39m\n",
      "\u001b[93m[warning]\tFailed to read /home/ubuntu/nextstrain/zika-tutorial2/auspice/zika_root-sequence.json\u001b[39m\n",
      "/bin/bash: line 1:  7155 Terminated              auspice view --datasetDir auspice\n"
     ]
    }
   ],
   "source": [
    "#13\n",
    "## 觀看圖示\n",
    "%cd ~/nextstrain/zika-tutorial2\n",
    "!export PORT=9999; export HOST=0.0.0.0; auspice view --datasetDir auspice"
   ]
  },
  {
   "cell_type": "code",
   "execution_count": 13,
   "id": "ec523cd7-a13b-4511-a2fa-79d0f501a77e",
   "metadata": {},
   "outputs": [],
   "source": [
    "#14\n",
    "## 刪除使用的port 9999\n",
    "!lsof -i -P -n | grep `whoami` | grep LISTEN | grep 9999 | awk '{print $2}' | xargs kill"
   ]
  },
  {
   "cell_type": "code",
   "execution_count": null,
   "id": "864e129e-f206-4af6-a62f-b63900a87980",
   "metadata": {},
   "outputs": [],
   "source": []
  }
 ],
 "metadata": {
  "kernelspec": {
   "display_name": "Python 3 (ipykernel)",
   "language": "python",
   "name": "python3"
  },
  "language_info": {
   "codemirror_mode": {
    "name": "ipython",
    "version": 3
   },
   "file_extension": ".py",
   "mimetype": "text/x-python",
   "name": "python",
   "nbconvert_exporter": "python",
   "pygments_lexer": "ipython3",
   "version": "3.8.12"
  }
 },
 "nbformat": 4,
 "nbformat_minor": 5
}
