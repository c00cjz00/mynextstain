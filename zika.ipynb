{
 "cells": [
  {
   "cell_type": "markdown",
   "id": "c57b9b30-6c79-45bf-9adb-9d4baab9df9c",
   "metadata": {},
   "source": [
    "### 下載 Nextstrain Zika 教程存儲庫\n",
    "我們將病原體分析存儲在版本控制存儲庫中，因此我們可以輕鬆跟踪隨時間的變化。下載您要構建的示例 Zika 病原體存儲庫。\n",
    "完成後，您將擁有一個名為zika-tutorial/."
   ]
  },
  {
   "cell_type": "code",
   "execution_count": 1,
   "id": "c08a46c4-b1b6-40fb-b87c-346069efc865",
   "metadata": {},
   "outputs": [],
   "source": [
    "## 導入環境變數 export PATH=...\n",
    "import os\n",
    "myENV='nextstrain'\n",
    "myPackageHome='/home/ubuntu/miniconda3'\n",
    "os.environ['PATH']=myPackageHome+\"/envs/\"+myENV+\"/bin:\"+os.environ['PATH'] "
   ]
  },
  {
   "cell_type": "code",
   "execution_count": 3,
   "id": "5d2cf99d-3085-449b-8ebb-cb89f64931f4",
   "metadata": {},
   "outputs": [
    {
     "name": "stdout",
     "output_type": "stream",
     "text": [
      "/home/ubuntu/nextstrain\n",
      "fatal: destination path 'zika-tutorial' already exists and is not an empty directory.\n"
     ]
    }
   ],
   "source": [
    "!mkdir -p ~/nextstrain/\n",
    "%cd ~/nextstrain/\n",
    "!git clone https://github.com/nextstrain/zika-tutorial.git "
   ]
  },
  {
   "cell_type": "markdown",
   "id": "1a5d830b-1004-4390-8b3e-282954472300",
   "metadata": {},
   "source": [
    "### 執行Nextstrain zika病毒 分析\n",
    "Nextstrain 構建使用 Augur生物信息學工具包對數據進行子採樣、對齊序列、構建系統發育、估計系統地理模式並將結果保存為適合使用 Auspice進行可視化的格式。"
   ]
  },
  {
   "cell_type": "code",
   "execution_count": null,
   "id": "b19db8bb-df34-495e-82a5-1f1770e0c0fb",
   "metadata": {},
   "outputs": [],
   "source": [
    "%cd ~/nextstrain/zika-tutorial\n",
    "!nextstrain build --cpus 1 ."
   ]
  },
  {
   "cell_type": "markdown",
   "id": "9b33ef90-f55b-4519-914c-2889ae2497a1",
   "metadata": {},
   "source": [
    "### 可視化構建結果\n",
    "使用 Nextstrain 的可視化查看構建結果。"
   ]
  },
  {
   "cell_type": "code",
   "execution_count": 23,
   "id": "dabdb78d-8206-4acf-9bc1-4aec4473e033",
   "metadata": {},
   "outputs": [
    {
     "name": "stdout",
     "output_type": "stream",
     "text": [
      "/home/ubuntu/nextstrain/zika-tutorial\n",
      "--2021-12-14 13:45:23--  https://covid-19.nchc.org.tw/nextstrain/config.json\n",
      "Resolving covid-19.nchc.org.tw (covid-19.nchc.org.tw)... 203.145.222.54\n",
      "Connecting to covid-19.nchc.org.tw (covid-19.nchc.org.tw)|203.145.222.54|:443... connected.\n",
      "HTTP request sent, awaiting response... 200 OK\n",
      "Length: 226 [application/json]\n",
      "Saving to: ‘config.json’\n",
      "\n",
      "config.json         100%[===================>]     226  --.-KB/s    in 0s      \n",
      "\n",
      "2021-12-14 13:45:23 (62.8 MB/s) - ‘config.json’ saved [226/226]\n",
      "\n",
      "\u001b[94mRunning webpack compiler\u001b[39m\n",
      "[BABEL] Note: The code generator has deoptimised the styling of /home/ubuntu/miniconda3/envs/nextstrain/lib/auspice/node_modules/lodash/lodash.js as it exceeds the max of 500KB.\n",
      "[BABEL] Note: The code generator has deoptimised the styling of /home/ubuntu/miniconda3/envs/nextstrain/lib/auspice/node_modules/react-icons/fa/index.esm.js as it exceeds the max of 500KB.\n",
      "\u001b[93m[warning]\tWebpack has warnings (run with '--verbose' to see them)\u001b[39m\n"
     ]
    }
   ],
   "source": [
    "%cd ~/nextstrain/zika-tutorial\n",
    "!wget https://covid-19.nchc.org.tw/nextstrain/config.json -O config.json\n",
    "!auspice build --extend config.json"
   ]
  },
  {
   "cell_type": "markdown",
   "id": "c559726e-b74a-408c-b920-002bbb59167f",
   "metadata": {},
   "source": [
    "### 可視化構建結果\n",
    "使用 Nextstrain 的可視化查看構建結果。"
   ]
  },
  {
   "cell_type": "code",
   "execution_count": 24,
   "id": "94c6c21c-c852-4719-ad82-ad07e29dafaa",
   "metadata": {},
   "outputs": [
    {
     "name": "stdout",
     "output_type": "stream",
     "text": [
      "/home/ubuntu/nextstrain/zika-tutorial\n",
      "\u001b[94m\u001b[39m\n",
      "\u001b[94m\u001b[39m\n",
      "\u001b[94m---------------------------------------------------\u001b[39m\n",
      "\u001b[94mAuspice server now running at \u001b[39m\u001b[94m\u001b[4m\u001b[1mhttp://0.0.0.0:9999\u001b[22m\u001b[24m\u001b[39m\n",
      "\u001b[94mServing the auspice build which exists in this directory.\u001b[39m\n",
      "\u001b[94mLooking for datasets in /home/ubuntu/nextstrain/zika-tutorial/auspice\u001b[39m\n",
      "\u001b[94mLooking for narratives in /home/ubuntu/miniconda3/envs/nextstrain/lib/auspice/node_modules/auspice/narratives\u001b[39m\n",
      "\u001b[94m---------------------------------------------------\u001b[39m\n",
      "\u001b[94m\u001b[39m\n",
      "\u001b[94m\u001b[39m\n",
      "\u001b[94mGET DATASET query received: prefix=/zika\u001b[39m\n",
      "\u001b[94mGET AVAILABLE returning locally available datasets & narratives\u001b[39m\n",
      "\u001b[93m[warning]\tCouldn't collect available narratives (path searched: /home/ubuntu/miniconda3/envs/nextstrain/lib/auspice/node_modules/auspice/narratives)\u001b[39m\n",
      "\u001b[94mGET DATASET query received: prefix=/zika&type=root-sequence\u001b[39m\n",
      "\u001b[93m[warning]\tFailed to read /home/ubuntu/nextstrain/zika-tutorial/auspice/zika_root-sequence.json\u001b[39m\n",
      "Error: ENOENT: no such file or directory, stat '/home/ubuntu/nextstrain/zika-tutorial/favicon.png'\n",
      "^C\n"
     ]
    }
   ],
   "source": [
    "%cd ~/nextstrain/zika-tutorial\n",
    "!export PORT=9999; export HOST=0.0.0.0; auspice view --datasetDir auspice"
   ]
  },
  {
   "cell_type": "code",
   "execution_count": null,
   "id": "48dca627-256a-4956-b422-5c595667bbbf",
   "metadata": {},
   "outputs": [],
   "source": []
  }
 ],
 "metadata": {
  "kernelspec": {
   "display_name": "nextstrain",
   "language": "python",
   "name": "nextstrain"
  },
  "language_info": {
   "codemirror_mode": {
    "name": "ipython",
    "version": 3
   },
   "file_extension": ".py",
   "mimetype": "text/x-python",
   "name": "python",
   "nbconvert_exporter": "python",
   "pygments_lexer": "ipython3",
   "version": "3.9.7"
  }
 },
 "nbformat": 4,
 "nbformat_minor": 5
}
